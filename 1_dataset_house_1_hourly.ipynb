{
 "cells": [
  {
   "cell_type": "code",
   "execution_count": 1,
   "id": "9a0db73f",
   "metadata": {},
   "outputs": [],
   "source": [
    "import pandas as pd\n",
    "import plotly.express as px\n",
    "import matplotlib.pyplot as plt\n",
    "import seaborn as sns"
   ]
  },
  {
   "cell_type": "code",
   "execution_count": 2,
   "id": "6a0bd7d3",
   "metadata": {},
   "outputs": [],
   "source": [
    "# dataset = pd.read_csv(r\"C:\\Users\\Akash\\Desktop\\electricity3\\house_1_hourly.csv\")\n",
    "\n",
    "dataset = pd.read_csv(r\"C:\\Users\\Akash\\Desktop\\electricity3\\house_1_hourly.csv\")"
   ]
  },
  {
   "cell_type": "code",
   "execution_count": 3,
   "id": "436cb49f",
   "metadata": {},
   "outputs": [
    {
     "data": {
      "text/plain": [
       "(380755, 13)"
      ]
     },
     "execution_count": 3,
     "metadata": {},
     "output_type": "execute_result"
    }
   ],
   "source": [
    "dataset.shape"
   ]
  },
  {
   "cell_type": "code",
   "execution_count": 4,
   "id": "1a88cbe2",
   "metadata": {},
   "outputs": [
    {
     "data": {
      "text/html": [
       "<div>\n",
       "<style scoped>\n",
       "    .dataframe tbody tr th:only-of-type {\n",
       "        vertical-align: middle;\n",
       "    }\n",
       "\n",
       "    .dataframe tbody tr th {\n",
       "        vertical-align: top;\n",
       "    }\n",
       "\n",
       "    .dataframe thead th {\n",
       "        text-align: right;\n",
       "    }\n",
       "</style>\n",
       "<table border=\"1\" class=\"dataframe\">\n",
       "  <thead>\n",
       "    <tr style=\"text-align: right;\">\n",
       "      <th></th>\n",
       "      <th>timestamp</th>\n",
       "      <th>appliance</th>\n",
       "      <th>device_id</th>\n",
       "      <th>appliance_type</th>\n",
       "      <th>power_kwh</th>\n",
       "      <th>temperature</th>\n",
       "      <th>hour</th>\n",
       "      <th>dayofweek</th>\n",
       "      <th>day_name</th>\n",
       "      <th>is_weekend</th>\n",
       "      <th>is_holiday</th>\n",
       "      <th>month</th>\n",
       "      <th>tariff_rate</th>\n",
       "    </tr>\n",
       "  </thead>\n",
       "  <tbody>\n",
       "    <tr>\n",
       "      <th>0</th>\n",
       "      <td>2012-11-16 11:00:00</td>\n",
       "      <td>laptop</td>\n",
       "      <td>4</td>\n",
       "      <td>electronics</td>\n",
       "      <td>0.018677</td>\n",
       "      <td>22.0</td>\n",
       "      <td>11</td>\n",
       "      <td>4</td>\n",
       "      <td>Friday</td>\n",
       "      <td>0</td>\n",
       "      <td>0</td>\n",
       "      <td>11</td>\n",
       "      <td>4.0</td>\n",
       "    </tr>\n",
       "    <tr>\n",
       "      <th>1</th>\n",
       "      <td>2012-11-16 12:00:00</td>\n",
       "      <td>laptop</td>\n",
       "      <td>4</td>\n",
       "      <td>electronics</td>\n",
       "      <td>0.021861</td>\n",
       "      <td>22.0</td>\n",
       "      <td>12</td>\n",
       "      <td>4</td>\n",
       "      <td>Friday</td>\n",
       "      <td>0</td>\n",
       "      <td>0</td>\n",
       "      <td>11</td>\n",
       "      <td>4.0</td>\n",
       "    </tr>\n",
       "    <tr>\n",
       "      <th>2</th>\n",
       "      <td>2012-11-16 13:00:00</td>\n",
       "      <td>laptop</td>\n",
       "      <td>4</td>\n",
       "      <td>electronics</td>\n",
       "      <td>0.018391</td>\n",
       "      <td>22.0</td>\n",
       "      <td>13</td>\n",
       "      <td>4</td>\n",
       "      <td>Friday</td>\n",
       "      <td>0</td>\n",
       "      <td>0</td>\n",
       "      <td>11</td>\n",
       "      <td>4.0</td>\n",
       "    </tr>\n",
       "    <tr>\n",
       "      <th>3</th>\n",
       "      <td>2012-11-16 14:00:00</td>\n",
       "      <td>laptop</td>\n",
       "      <td>4</td>\n",
       "      <td>electronics</td>\n",
       "      <td>0.023993</td>\n",
       "      <td>22.0</td>\n",
       "      <td>14</td>\n",
       "      <td>4</td>\n",
       "      <td>Friday</td>\n",
       "      <td>0</td>\n",
       "      <td>0</td>\n",
       "      <td>11</td>\n",
       "      <td>4.0</td>\n",
       "    </tr>\n",
       "    <tr>\n",
       "      <th>4</th>\n",
       "      <td>2012-11-16 15:00:00</td>\n",
       "      <td>laptop</td>\n",
       "      <td>4</td>\n",
       "      <td>electronics</td>\n",
       "      <td>0.024309</td>\n",
       "      <td>22.0</td>\n",
       "      <td>15</td>\n",
       "      <td>4</td>\n",
       "      <td>Friday</td>\n",
       "      <td>0</td>\n",
       "      <td>0</td>\n",
       "      <td>11</td>\n",
       "      <td>4.0</td>\n",
       "    </tr>\n",
       "  </tbody>\n",
       "</table>\n",
       "</div>"
      ],
      "text/plain": [
       "             timestamp appliance  device_id appliance_type  power_kwh  \\\n",
       "0  2012-11-16 11:00:00    laptop          4    electronics   0.018677   \n",
       "1  2012-11-16 12:00:00    laptop          4    electronics   0.021861   \n",
       "2  2012-11-16 13:00:00    laptop          4    electronics   0.018391   \n",
       "3  2012-11-16 14:00:00    laptop          4    electronics   0.023993   \n",
       "4  2012-11-16 15:00:00    laptop          4    electronics   0.024309   \n",
       "\n",
       "   temperature  hour  dayofweek day_name  is_weekend  is_holiday  month  \\\n",
       "0         22.0    11          4   Friday           0           0     11   \n",
       "1         22.0    12          4   Friday           0           0     11   \n",
       "2         22.0    13          4   Friday           0           0     11   \n",
       "3         22.0    14          4   Friday           0           0     11   \n",
       "4         22.0    15          4   Friday           0           0     11   \n",
       "\n",
       "   tariff_rate  \n",
       "0          4.0  \n",
       "1          4.0  \n",
       "2          4.0  \n",
       "3          4.0  \n",
       "4          4.0  "
      ]
     },
     "execution_count": 4,
     "metadata": {},
     "output_type": "execute_result"
    }
   ],
   "source": [
    "dataset.head()"
   ]
  },
  {
   "cell_type": "code",
   "execution_count": 5,
   "id": "bd0b0759",
   "metadata": {},
   "outputs": [
    {
     "name": "stdout",
     "output_type": "stream",
     "text": [
      "<class 'pandas.core.frame.DataFrame'>\n",
      "RangeIndex: 380755 entries, 0 to 380754\n",
      "Data columns (total 13 columns):\n",
      " #   Column          Non-Null Count   Dtype  \n",
      "---  ------          --------------   -----  \n",
      " 0   timestamp       380755 non-null  object \n",
      " 1   appliance       380755 non-null  object \n",
      " 2   device_id       380755 non-null  int64  \n",
      " 3   appliance_type  380755 non-null  object \n",
      " 4   power_kwh       329118 non-null  float64\n",
      " 5   temperature     380755 non-null  float64\n",
      " 6   hour            380755 non-null  int64  \n",
      " 7   dayofweek       380755 non-null  int64  \n",
      " 8   day_name        380755 non-null  object \n",
      " 9   is_weekend      380755 non-null  int64  \n",
      " 10  is_holiday      380755 non-null  int64  \n",
      " 11  month           380755 non-null  int64  \n",
      " 12  tariff_rate     380755 non-null  float64\n",
      "dtypes: float64(3), int64(6), object(4)\n",
      "memory usage: 37.8+ MB\n"
     ]
    }
   ],
   "source": [
    "dataset.info()"
   ]
  },
  {
   "cell_type": "code",
   "execution_count": 6,
   "id": "0ffa54f9",
   "metadata": {},
   "outputs": [
    {
     "data": {
      "text/plain": [
       "timestamp             0\n",
       "appliance             0\n",
       "device_id             0\n",
       "appliance_type        0\n",
       "power_kwh         51637\n",
       "temperature           0\n",
       "hour                  0\n",
       "dayofweek             0\n",
       "day_name              0\n",
       "is_weekend            0\n",
       "is_holiday            0\n",
       "month                 0\n",
       "tariff_rate           0\n",
       "dtype: int64"
      ]
     },
     "execution_count": 6,
     "metadata": {},
     "output_type": "execute_result"
    }
   ],
   "source": [
    "dataset.isnull().sum()"
   ]
  },
  {
   "cell_type": "code",
   "execution_count": 7,
   "id": "56134580",
   "metadata": {},
   "outputs": [],
   "source": [
    "dataset['timestamp'] = pd.to_datetime(dataset['timestamp'])\n",
    "\n",
    "# Extract time feature\n",
    "dataset['year'] = dataset['timestamp'].dt.year\n",
    "dataset['month'] = dataset['timestamp'].dt.month\n",
    "dataset['day'] = dataset['timestamp'].dt.day\n",
    "dataset['dayofweek'] = dataset['timestamp'].dt.dayofweek"
   ]
  },
  {
   "cell_type": "code",
   "execution_count": 8,
   "id": "f2b17aba",
   "metadata": {},
   "outputs": [],
   "source": [
    "dataset = dataset.dropna(subset=['power_kwh'])"
   ]
  },
  {
   "cell_type": "code",
   "execution_count": null,
   "id": "b1bb00e6",
   "metadata": {},
   "outputs": [],
   "source": []
  },
  {
   "cell_type": "code",
   "execution_count": 9,
   "id": "a6095ba1",
   "metadata": {},
   "outputs": [
    {
     "data": {
      "text/plain": [
       "(329118, 15)"
      ]
     },
     "execution_count": 9,
     "metadata": {},
     "output_type": "execute_result"
    }
   ],
   "source": [
    "dataset.shape"
   ]
  },
  {
   "cell_type": "code",
   "execution_count": 10,
   "id": "a0a4d3f0",
   "metadata": {},
   "outputs": [],
   "source": [
    "dataset.drop_duplicates(inplace=True)"
   ]
  },
  {
   "cell_type": "code",
   "execution_count": 11,
   "id": "893ac032",
   "metadata": {},
   "outputs": [
    {
     "data": {
      "text/html": [
       "<div>\n",
       "<style scoped>\n",
       "    .dataframe tbody tr th:only-of-type {\n",
       "        vertical-align: middle;\n",
       "    }\n",
       "\n",
       "    .dataframe tbody tr th {\n",
       "        vertical-align: top;\n",
       "    }\n",
       "\n",
       "    .dataframe thead th {\n",
       "        text-align: right;\n",
       "    }\n",
       "</style>\n",
       "<table border=\"1\" class=\"dataframe\">\n",
       "  <thead>\n",
       "    <tr style=\"text-align: right;\">\n",
       "      <th></th>\n",
       "      <th>appliance</th>\n",
       "      <th>appliance_type</th>\n",
       "      <th>day_name</th>\n",
       "    </tr>\n",
       "  </thead>\n",
       "  <tbody>\n",
       "    <tr>\n",
       "      <th>0</th>\n",
       "      <td>laptop</td>\n",
       "      <td>electronics</td>\n",
       "      <td>Friday</td>\n",
       "    </tr>\n",
       "    <tr>\n",
       "      <th>1</th>\n",
       "      <td>laptop</td>\n",
       "      <td>electronics</td>\n",
       "      <td>Friday</td>\n",
       "    </tr>\n",
       "    <tr>\n",
       "      <th>2</th>\n",
       "      <td>laptop</td>\n",
       "      <td>electronics</td>\n",
       "      <td>Friday</td>\n",
       "    </tr>\n",
       "    <tr>\n",
       "      <th>3</th>\n",
       "      <td>laptop</td>\n",
       "      <td>electronics</td>\n",
       "      <td>Friday</td>\n",
       "    </tr>\n",
       "    <tr>\n",
       "      <th>4</th>\n",
       "      <td>laptop</td>\n",
       "      <td>electronics</td>\n",
       "      <td>Friday</td>\n",
       "    </tr>\n",
       "    <tr>\n",
       "      <th>...</th>\n",
       "      <td>...</td>\n",
       "      <td>...</td>\n",
       "      <td>...</td>\n",
       "    </tr>\n",
       "    <tr>\n",
       "      <th>380750</th>\n",
       "      <td>coffee_machine</td>\n",
       "      <td>kitchen_appliance</td>\n",
       "      <td>Sunday</td>\n",
       "    </tr>\n",
       "    <tr>\n",
       "      <th>380751</th>\n",
       "      <td>coffee_machine</td>\n",
       "      <td>kitchen_appliance</td>\n",
       "      <td>Sunday</td>\n",
       "    </tr>\n",
       "    <tr>\n",
       "      <th>380752</th>\n",
       "      <td>coffee_machine</td>\n",
       "      <td>kitchen_appliance</td>\n",
       "      <td>Sunday</td>\n",
       "    </tr>\n",
       "    <tr>\n",
       "      <th>380753</th>\n",
       "      <td>coffee_machine</td>\n",
       "      <td>kitchen_appliance</td>\n",
       "      <td>Sunday</td>\n",
       "    </tr>\n",
       "    <tr>\n",
       "      <th>380754</th>\n",
       "      <td>coffee_machine</td>\n",
       "      <td>kitchen_appliance</td>\n",
       "      <td>Sunday</td>\n",
       "    </tr>\n",
       "  </tbody>\n",
       "</table>\n",
       "<p>329118 rows × 3 columns</p>\n",
       "</div>"
      ],
      "text/plain": [
       "             appliance     appliance_type day_name\n",
       "0               laptop        electronics   Friday\n",
       "1               laptop        electronics   Friday\n",
       "2               laptop        electronics   Friday\n",
       "3               laptop        electronics   Friday\n",
       "4               laptop        electronics   Friday\n",
       "...                ...                ...      ...\n",
       "380750  coffee_machine  kitchen_appliance   Sunday\n",
       "380751  coffee_machine  kitchen_appliance   Sunday\n",
       "380752  coffee_machine  kitchen_appliance   Sunday\n",
       "380753  coffee_machine  kitchen_appliance   Sunday\n",
       "380754  coffee_machine  kitchen_appliance   Sunday\n",
       "\n",
       "[329118 rows x 3 columns]"
      ]
     },
     "execution_count": 11,
     "metadata": {},
     "output_type": "execute_result"
    }
   ],
   "source": [
    "object_data = dataset.select_dtypes(include=['object'])\n",
    "object_data"
   ]
  },
  {
   "cell_type": "code",
   "execution_count": null,
   "id": "53d16ffa",
   "metadata": {},
   "outputs": [],
   "source": []
  },
  {
   "cell_type": "code",
   "execution_count": 12,
   "id": "193ca53c",
   "metadata": {},
   "outputs": [],
   "source": [
    "# device_month = dataset.groupby(['device_id', 'month'])['power_kwh'].mean().unstack()\n",
    "\n",
    "# plt.figure(figsize=(10, 6))\n",
    "# sns.heatmap(device_month, cmap='YlGnBu', annot=True, fmt=\".2f\")\n",
    "# plt.title(\"Average Power Usage by Device and Month\")\n",
    "# plt.ylabel(\"Device ID\")\n",
    "# plt.xlabel(\"Month\")\n",
    "# plt.tight_layout()\n",
    "# plt.show()\n"
   ]
  },
  {
   "cell_type": "code",
   "execution_count": 13,
   "id": "9dc5dc77",
   "metadata": {},
   "outputs": [
    {
     "data": {
      "text/plain": [
       "appliance\n",
       "dishwasher           37985\n",
       "tv                   37963\n",
       "washing_machine      37722\n",
       "fridge               37485\n",
       "microwave            37485\n",
       "kettle               37466\n",
       "livingroom_s_lamp    35804\n",
       "coffee_machine       33682\n",
       "ipad_charger         23830\n",
       "laptop                9696\n",
       "Name: count, dtype: int64"
      ]
     },
     "execution_count": 13,
     "metadata": {},
     "output_type": "execute_result"
    }
   ],
   "source": [
    "dataset['appliance'].value_counts()"
   ]
  },
  {
   "cell_type": "code",
   "execution_count": 14,
   "id": "ee22dce6",
   "metadata": {},
   "outputs": [
    {
     "data": {
      "image/png": "[encoded data removed]",
      "text/plain": [
       "<Figure size 640x480 with 1 Axes>"
      ]
     },
     "metadata": {},
     "output_type": "display_data"
    }
   ],
   "source": [
    "sns.boxplot(dataset['power_kwh'])\n",
    "plt.title(\"Boxplot for Power Usage (kWh)\")\n",
    "plt.show()"
   ]
  },
  {
   "cell_type": "code",
   "execution_count": 15,
   "id": "c6b18e10",
   "metadata": {},
   "outputs": [
    {
     "name": "stdout",
     "output_type": "stream",
     "text": [
      "Original rows: 329118\n"
     ]
    }
   ],
   "source": [
    "# # Step 1: Calculate IQR\n",
    "Q1 = dataset['power_kwh'].quantile(0.25)\n",
    "Q3 = dataset['power_kwh'].quantile(0.75)\n",
    "IQR = Q3 - Q1\n",
    "\n",
    "# Step 2: Define bounds\n",
    "lower_bound = Q1 - 1.5 * IQR\n",
    "upper_bound = Q3 + 1.5 * IQR\n",
    "\n",
    "# Step 3: Filter out outliers\n",
    "df_no_outliers = dataset[(dataset['power_kwh'] >= lower_bound) & (dataset['power_kwh'] <= upper_bound)]\n",
    "\n",
    "print(f\"Original rows: {len(dataset)}\")\n",
    "\n",
    "dataset = df_no_outliers\n",
    "\n"
   ]
  },
  {
   "cell_type": "code",
   "execution_count": 16,
   "id": "339cdfcd",
   "metadata": {},
   "outputs": [
    {
     "data": {
      "text/plain": [
       "appliance\n",
       "dishwasher           36311\n",
       "washing_machine      34428\n",
       "coffee_machine       33333\n",
       "microwave            32326\n",
       "tv                   31384\n",
       "kettle               31256\n",
       "livingroom_s_lamp    28502\n",
       "ipad_charger         23515\n",
       "laptop                2294\n",
       "fridge                  82\n",
       "Name: count, dtype: int64"
      ]
     },
     "execution_count": 16,
     "metadata": {},
     "output_type": "execute_result"
    }
   ],
   "source": [
    "dataset['appliance'].value_counts()"
   ]
  },
  {
   "cell_type": "code",
   "execution_count": 17,
   "id": "8b9b28f8",
   "metadata": {},
   "outputs": [],
   "source": [
    "# Drop fridge data\n",
    "dataset = dataset[dataset['appliance'] != 'fridge']\n"
   ]
  },
  {
   "cell_type": "code",
   "execution_count": 18,
   "id": "63e182de",
   "metadata": {},
   "outputs": [
    {
     "data": {
      "text/plain": [
       "appliance\n",
       "dishwasher           36311\n",
       "washing_machine      34428\n",
       "coffee_machine       33333\n",
       "microwave            32326\n",
       "tv                   31384\n",
       "kettle               31256\n",
       "livingroom_s_lamp    28502\n",
       "ipad_charger         23515\n",
       "laptop                2294\n",
       "Name: count, dtype: int64"
      ]
     },
     "execution_count": 18,
     "metadata": {},
     "output_type": "execute_result"
    }
   ],
   "source": [
    "dataset['appliance'].value_counts()"
   ]
  },
  {
   "cell_type": "code",
   "execution_count": 19,
   "id": "bda5e35b",
   "metadata": {},
   "outputs": [],
   "source": [
    "# Keep original for reference\n",
    "dataset_1 = dataset.copy()"
   ]
  },
  {
   "cell_type": "code",
   "execution_count": 20,
   "id": "d0675dfa",
   "metadata": {},
   "outputs": [
    {
     "name": "stderr",
     "output_type": "stream",
     "text": [
      "C:\\Users\\Akash\\AppData\\Local\\Temp\\ipykernel_7248\\1774036146.py:7: SettingWithCopyWarning: \n",
      "A value is trying to be set on a copy of a slice from a DataFrame\n",
      "\n",
      "See the caveats in the documentation: https://pandas.pydata.org/pandas-docs/stable/user_guide/indexing.html#returning-a-view-versus-a-copy\n",
      "  dataset.drop(existing_columns, axis=1, inplace=True)\n"
     ]
    }
   ],
   "source": [
    "# Check if the columns exist before dropping\n",
    "columns_to_drop = ['timestamp', 'appliance', 'appliance_type', 'day_name']\n",
    "existing_columns = [col for col in columns_to_drop if col in dataset.columns]\n",
    "\n",
    "# Drop only the existing columns\n",
    "if existing_columns:\n",
    "    dataset.drop(existing_columns, axis=1, inplace=True)\n",
    "else:\n",
    "    print(f\"Columns {columns_to_drop} not found in the dataset.\")\n"
   ]
  },
  {
   "cell_type": "code",
   "execution_count": 21,
   "id": "dfd72e0c",
   "metadata": {},
   "outputs": [],
   "source": [
    "\n",
    "# Proceed with feature and target separation\n",
    "x = dataset.drop('power_kwh', axis=1)\n",
    "y = dataset['power_kwh']"
   ]
  },
  {
   "cell_type": "code",
   "execution_count": 22,
   "id": "7c8c3e7d",
   "metadata": {},
   "outputs": [
    {
     "data": {
      "text/plain": [
       "Index(['device_id', 'temperature', 'hour', 'dayofweek', 'is_weekend',\n",
       "       'is_holiday', 'month', 'tariff_rate', 'year', 'day'],\n",
       "      dtype='object')"
      ]
     },
     "execution_count": 22,
     "metadata": {},
     "output_type": "execute_result"
    }
   ],
   "source": [
    "x.columns"
   ]
  },
  {
   "cell_type": "code",
   "execution_count": 214,
   "id": "b41d9fa0",
   "metadata": {},
   "outputs": [
    {
     "data": {
      "image/png": "[encoded data removed]",
      "text/plain": [
       "<Figure size 1000x600 with 2 Axes>"
      ]
     },
     "metadata": {},
     "output_type": "display_data"
    }
   ],
   "source": [
    "import seaborn as sns\n",
    "import matplotlib.pyplot as plt\n",
    "\n",
    "# Combine features and target\n",
    "df_corr = x.copy()\n",
    "df_corr['power_kwh'] = y  # Assuming y is your target\n",
    "\n",
    "# Calculate correlation\n",
    "corr = df_corr.corr()\n",
    "\n",
    "# Plot heatmap\n",
    "plt.figure(figsize=(10, 6))\n",
    "sns.heatmap(corr, annot=True, fmt=\".2f\", cmap='coolwarm', square=True)\n",
    "plt.title(\"Correlation Heatmap\")\n",
    "plt.tight_layout()\n",
    "plt.show()\n"
   ]
  },
  {
   "cell_type": "code",
   "execution_count": 215,
   "id": "6c3a663d",
   "metadata": {},
   "outputs": [],
   "source": [
    "from sklearn.preprocessing import StandardScaler\n",
    "from sklearn.model_selection import train_test_split\n",
    "\n",
    "x_train, x_test, y_train, y_test = train_test_split(x, y, test_size=0.2, random_state=42)\n",
    "\n",
    "\n",
    "scaler = StandardScaler()\n",
    "x_train = scaler.fit_transform(x_train)\n",
    "x_test = scaler.transform(x_test)  # Use transform, not fit_transform!\n",
    "\n"
   ]
  },
  {
   "cell_type": "code",
   "execution_count": 219,
   "id": "5c8edb3a",
   "metadata": {},
   "outputs": [
    {
     "data": {
      "text/html": [
       "<div>\n",
       "<style scoped>\n",
       "    .dataframe tbody tr th:only-of-type {\n",
       "        vertical-align: middle;\n",
       "    }\n",
       "\n",
       "    .dataframe tbody tr th {\n",
       "        vertical-align: top;\n",
       "    }\n",
       "\n",
       "    .dataframe thead th {\n",
       "        text-align: right;\n",
       "    }\n",
       "</style>\n",
       "<table border=\"1\" class=\"dataframe\">\n",
       "  <thead>\n",
       "    <tr style=\"text-align: right;\">\n",
       "      <th></th>\n",
       "      <th>device_id</th>\n",
       "      <th>temperature</th>\n",
       "      <th>hour</th>\n",
       "      <th>dayofweek</th>\n",
       "      <th>is_weekend</th>\n",
       "      <th>is_holiday</th>\n",
       "      <th>month</th>\n",
       "      <th>tariff_rate</th>\n",
       "      <th>year</th>\n",
       "      <th>day</th>\n",
       "    </tr>\n",
       "  </thead>\n",
       "  <tbody>\n",
       "    <tr>\n",
       "      <th>154</th>\n",
       "      <td>4</td>\n",
       "      <td>22.0</td>\n",
       "      <td>21</td>\n",
       "      <td>3</td>\n",
       "      <td>0</td>\n",
       "      <td>0</td>\n",
       "      <td>11</td>\n",
       "      <td>6.0</td>\n",
       "      <td>2012</td>\n",
       "      <td>22</td>\n",
       "    </tr>\n",
       "    <tr>\n",
       "      <th>155</th>\n",
       "      <td>4</td>\n",
       "      <td>22.0</td>\n",
       "      <td>22</td>\n",
       "      <td>3</td>\n",
       "      <td>0</td>\n",
       "      <td>0</td>\n",
       "      <td>11</td>\n",
       "      <td>3.0</td>\n",
       "      <td>2012</td>\n",
       "      <td>22</td>\n",
       "    </tr>\n",
       "    <tr>\n",
       "      <th>156</th>\n",
       "      <td>4</td>\n",
       "      <td>22.0</td>\n",
       "      <td>23</td>\n",
       "      <td>3</td>\n",
       "      <td>0</td>\n",
       "      <td>0</td>\n",
       "      <td>11</td>\n",
       "      <td>3.0</td>\n",
       "      <td>2012</td>\n",
       "      <td>22</td>\n",
       "    </tr>\n",
       "    <tr>\n",
       "      <th>157</th>\n",
       "      <td>4</td>\n",
       "      <td>22.0</td>\n",
       "      <td>0</td>\n",
       "      <td>4</td>\n",
       "      <td>0</td>\n",
       "      <td>0</td>\n",
       "      <td>11</td>\n",
       "      <td>3.0</td>\n",
       "      <td>2012</td>\n",
       "      <td>23</td>\n",
       "    </tr>\n",
       "    <tr>\n",
       "      <th>158</th>\n",
       "      <td>4</td>\n",
       "      <td>22.0</td>\n",
       "      <td>1</td>\n",
       "      <td>4</td>\n",
       "      <td>0</td>\n",
       "      <td>0</td>\n",
       "      <td>11</td>\n",
       "      <td>3.0</td>\n",
       "      <td>2012</td>\n",
       "      <td>23</td>\n",
       "    </tr>\n",
       "  </tbody>\n",
       "</table>\n",
       "</div>"
      ],
      "text/plain": [
       "     device_id  temperature  hour  dayofweek  is_weekend  is_holiday  month  \\\n",
       "154          4         22.0    21          3           0           0     11   \n",
       "155          4         22.0    22          3           0           0     11   \n",
       "156          4         22.0    23          3           0           0     11   \n",
       "157          4         22.0     0          4           0           0     11   \n",
       "158          4         22.0     1          4           0           0     11   \n",
       "\n",
       "     tariff_rate  year  day  \n",
       "154          6.0  2012   22  \n",
       "155          3.0  2012   22  \n",
       "156          3.0  2012   22  \n",
       "157          3.0  2012   23  \n",
       "158          3.0  2012   23  "
      ]
     },
     "execution_count": 219,
     "metadata": {},
     "output_type": "execute_result"
    }
   ],
   "source": [
    "x.head()"
   ]
  },
  {
   "cell_type": "code",
   "execution_count": 216,
   "id": "c1cc9549",
   "metadata": {},
   "outputs": [
    {
     "name": "stdout",
     "output_type": "stream",
     "text": [
      "MSE: 3.1838771468378225e-08\n",
      "R² Score: 0.8417058203438402\n"
     ]
    }
   ],
   "source": [
    "from xgboost import XGBRegressor\n",
    "from sklearn.metrics import mean_squared_error, r2_score\n",
    "\n",
    "# 1. Define and train the model\n",
    "model_rs = XGBRegressor(\n",
    "    subsample=0.8,\n",
    "    n_estimators=300,\n",
    "    max_depth=7,\n",
    "    learning_rate=0.05,\n",
    "    gamma=0,\n",
    "    colsample_bytree=0.8,\n",
    "    random_state=42\n",
    ")\n",
    "\n",
    "# 2. Fit the model\n",
    "model_rs.fit(x_train, y_train)\n",
    "\n",
    "# 3. Evaluate the model\n",
    "y_pred = model_rs.predict(x_test)\n",
    "\n",
    "print(\"MSE:\", mean_squared_error(y_test, y_pred))\n",
    "print(\"R² Score:\", r2_score(y_test, y_pred))\n"
   ]
  },
  {
   "cell_type": "code",
   "execution_count": 217,
   "id": "723bb529",
   "metadata": {},
   "outputs": [
    {
     "name": "stdout",
     "output_type": "stream",
     "text": [
      "=== Training Data ===\n",
      "MSE: 3.080709387363321e-08\n",
      "R² Score: 0.8472416542317962\n",
      "\n",
      "=== Testing Data ===\n",
      "MSE: 3.1838771468378225e-08\n",
      "R² Score: 0.8417058203438402\n"
     ]
    }
   ],
   "source": [
    "from sklearn.metrics import mean_squared_error, r2_score\n",
    "\n",
    "# Predict on training and testing sets\n",
    "y_train_pred = model_rs.predict(x_train)\n",
    "y_test_pred = model_rs.predict(x_test)\n",
    "\n",
    "# Training scores\n",
    "train_mse = mean_squared_error(y_train, y_train_pred)\n",
    "train_r2 = r2_score(y_train, y_train_pred)\n",
    "\n",
    "# Testing scores\n",
    "test_mse = mean_squared_error(y_test, y_test_pred)\n",
    "test_r2 = r2_score(y_test, y_test_pred)\n",
    "\n",
    "# Print results\n",
    "print(\"=== Training Data ===\")\n",
    "print(\"MSE:\", train_mse)\n",
    "print(\"R² Score:\", train_r2)\n",
    "\n",
    "print(\"\\n=== Testing Data ===\")\n",
    "print(\"MSE:\", test_mse)\n",
    "print(\"R² Score:\", test_r2)\n"
   ]
  },
  {
   "cell_type": "code",
   "execution_count": 218,
   "id": "a73ec460",
   "metadata": {},
   "outputs": [
    {
     "name": "stdout",
     "output_type": "stream",
     "text": [
      "=== Training Data ===\n",
      "MSE: 3.314610279737805e-08\n",
      "R² Score: 0.8356435744066125\n",
      "\n",
      "=== Testing Data ===\n",
      "MSE: 3.4273300023578626e-08\n",
      "R² Score: 0.8296019707691891\n"
     ]
    }
   ],
   "source": [
    "# random value\n",
    "\n",
    "model = XGBRegressor(\n",
    "    n_estimators=100,\n",
    "    learning_rate=0.1,\n",
    "    max_depth=6,\n",
    "    subsample=0.8,\n",
    "    colsample_bytree=0.8,\n",
    "    random_state=42\n",
    ")\n",
    "\n",
    "model.fit(x_train, y_train)\n",
    "\n",
    "\n",
    "# Predict on training and testing sets\n",
    "y_train_pred = model.predict(x_train)\n",
    "y_test_pred = model.predict(x_test)\n",
    "\n",
    "# Training scores\n",
    "train_mse = mean_squared_error(y_train, y_train_pred)\n",
    "train_r2 = r2_score(y_train, y_train_pred)\n",
    "\n",
    "# Testing scores\n",
    "test_mse = mean_squared_error(y_test, y_test_pred)\n",
    "test_r2 = r2_score(y_test, y_test_pred)\n",
    "\n",
    "# Print results\n",
    "print(\"=== Training Data ===\")\n",
    "print(\"MSE:\", train_mse)\n",
    "print(\"R² Score:\", train_r2)\n",
    "\n",
    "print(\"\\n=== Testing Data ===\")\n",
    "print(\"MSE:\", test_mse)\n",
    "print(\"R² Score:\", test_r2)\n"
   ]
  },
  {
   "cell_type": "code",
   "execution_count": null,
   "id": "b7a4adb6",
   "metadata": {},
   "outputs": [],
   "source": []
  },
  {
   "cell_type": "markdown",
   "id": "f195194b",
   "metadata": {},
   "source": []
  }
 ],
 "metadata": {
  "kernelspec": {
   "display_name": "Python 3",
   "language": "python",
   "name": "python3"
  },
  "language_info": {
   "codemirror_mode": {
    "name": "ipython",
    "version": 3
   },
   "file_extension": ".py",
   "mimetype": "text/x-python",
   "name": "python",
   "nbconvert_exporter": "python",
   "pygments_lexer": "ipython3",
   "version": "3.11.4"
  }
 },
 "nbformat": 4,
 "nbformat_minor": 5
}
