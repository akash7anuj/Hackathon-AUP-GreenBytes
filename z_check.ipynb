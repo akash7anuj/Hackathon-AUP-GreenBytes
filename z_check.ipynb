{
 "cells": [
  {
   "cell_type": "code",
   "execution_count": null,
   "id": "566b5b41",
   "metadata": {},
   "outputs": [
    {
     "ename": "KeyError",
     "evalue": "'timestamp'",
     "output_type": "error",
     "traceback": [
      "\u001b[31m---------------------------------------------------------------------------\u001b[39m",
      "\u001b[31mKeyError\u001b[39m                                  Traceback (most recent call last)",
      "\u001b[36mFile \u001b[39m\u001b[32mc:\\Users\\Akash\\AppData\\Local\\Programs\\Python\\Python311\\Lib\\site-packages\\pandas\\core\\indexes\\base.py:3805\u001b[39m, in \u001b[36mIndex.get_loc\u001b[39m\u001b[34m(self, key)\u001b[39m\n\u001b[32m   3804\u001b[39m \u001b[38;5;28;01mtry\u001b[39;00m:\n\u001b[32m-> \u001b[39m\u001b[32m3805\u001b[39m     \u001b[38;5;28;01mreturn\u001b[39;00m \u001b[38;5;28;43mself\u001b[39;49m\u001b[43m.\u001b[49m\u001b[43m_engine\u001b[49m\u001b[43m.\u001b[49m\u001b[43mget_loc\u001b[49m\u001b[43m(\u001b[49m\u001b[43mcasted_key\u001b[49m\u001b[43m)\u001b[49m\n\u001b[32m   3806\u001b[39m \u001b[38;5;28;01mexcept\u001b[39;00m \u001b[38;5;167;01mKeyError\u001b[39;00m \u001b[38;5;28;01mas\u001b[39;00m err:\n",
      "\u001b[36mFile \u001b[39m\u001b[32mindex.pyx:167\u001b[39m, in \u001b[36mpandas._libs.index.IndexEngine.get_loc\u001b[39m\u001b[34m()\u001b[39m\n",
      "\u001b[36mFile \u001b[39m\u001b[32mindex.pyx:196\u001b[39m, in \u001b[36mpandas._libs.index.IndexEngine.get_loc\u001b[39m\u001b[34m()\u001b[39m\n",
      "\u001b[36mFile \u001b[39m\u001b[32mpandas\\\\_libs\\\\hashtable_class_helper.pxi:7081\u001b[39m, in \u001b[36mpandas._libs.hashtable.PyObjectHashTable.get_item\u001b[39m\u001b[34m()\u001b[39m\n",
      "\u001b[36mFile \u001b[39m\u001b[32mpandas\\\\_libs\\\\hashtable_class_helper.pxi:7089\u001b[39m, in \u001b[36mpandas._libs.hashtable.PyObjectHashTable.get_item\u001b[39m\u001b[34m()\u001b[39m\n",
      "\u001b[31mKeyError\u001b[39m: 'timestamp'",
      "\nThe above exception was the direct cause of the following exception:\n",
      "\u001b[31mKeyError\u001b[39m                                  Traceback (most recent call last)",
      "\u001b[36mCell\u001b[39m\u001b[36m \u001b[39m\u001b[32mIn[55]\u001b[39m\u001b[32m, line 41\u001b[39m\n\u001b[32m     38\u001b[39m     total_power = next_hour_data[\u001b[33m'\u001b[39m\u001b[33mpredicted_power_kwh\u001b[39m\u001b[33m'\u001b[39m].sum()\n\u001b[32m     39\u001b[39m     \u001b[38;5;28mprint\u001b[39m(\u001b[33mf\u001b[39m\u001b[33m\"\u001b[39m\u001b[38;5;130;01m\\n\u001b[39;00m\u001b[33m🔋 Total Predicted Power Consumption for \u001b[39m\u001b[38;5;132;01m{\u001b[39;00mnext_hour.strftime(\u001b[33m'\u001b[39m\u001b[33m%\u001b[39m\u001b[33mY-\u001b[39m\u001b[33m%\u001b[39m\u001b[33mm-\u001b[39m\u001b[38;5;132;01m%d\u001b[39;00m\u001b[33m \u001b[39m\u001b[33m%\u001b[39m\u001b[33mH:\u001b[39m\u001b[33m%\u001b[39m\u001b[33mM:\u001b[39m\u001b[33m%\u001b[39m\u001b[33mS\u001b[39m\u001b[33m'\u001b[39m)\u001b[38;5;132;01m}\u001b[39;00m\u001b[33m: \u001b[39m\u001b[38;5;132;01m{\u001b[39;00mtotal_power\u001b[38;5;132;01m:\u001b[39;00m\u001b[33m.2f\u001b[39m\u001b[38;5;132;01m}\u001b[39;00m\u001b[33m kWh\u001b[39m\u001b[33m\"\u001b[39m)\n\u001b[32m---> \u001b[39m\u001b[32m41\u001b[39m \u001b[43mnext_hour_predict\u001b[49m\u001b[43m(\u001b[49m\u001b[43mdataset\u001b[49m\u001b[43m,\u001b[49m\u001b[43m \u001b[49m\u001b[43mmodel\u001b[49m\u001b[43m)\u001b[49m\n",
      "\u001b[36mCell\u001b[39m\u001b[36m \u001b[39m\u001b[32mIn[55]\u001b[39m\u001b[32m, line 10\u001b[39m, in \u001b[36mnext_hour_predict\u001b[39m\u001b[34m(dataset, model)\u001b[39m\n\u001b[32m      8\u001b[39m \u001b[38;5;28;01mdef\u001b[39;00m\u001b[38;5;250m \u001b[39m\u001b[34mnext_hour_predict\u001b[39m(dataset: pd.DataFrame, model):\n\u001b[32m---> \u001b[39m\u001b[32m10\u001b[39m     latest_timestamp = \u001b[43mdataset\u001b[49m\u001b[43m[\u001b[49m\u001b[33;43m'\u001b[39;49m\u001b[33;43mtimestamp\u001b[39;49m\u001b[33;43m'\u001b[39;49m\u001b[43m]\u001b[49m.max()\n\u001b[32m     11\u001b[39m     next_hour = latest_timestamp + pd.Timedelta(hours=\u001b[32m1\u001b[39m)\n\u001b[32m     13\u001b[39m     \u001b[38;5;66;03m# Create next-hour input for each device\u001b[39;00m\n",
      "\u001b[36mFile \u001b[39m\u001b[32mc:\\Users\\Akash\\AppData\\Local\\Programs\\Python\\Python311\\Lib\\site-packages\\pandas\\core\\frame.py:4102\u001b[39m, in \u001b[36mDataFrame.__getitem__\u001b[39m\u001b[34m(self, key)\u001b[39m\n\u001b[32m   4100\u001b[39m \u001b[38;5;28;01mif\u001b[39;00m \u001b[38;5;28mself\u001b[39m.columns.nlevels > \u001b[32m1\u001b[39m:\n\u001b[32m   4101\u001b[39m     \u001b[38;5;28;01mreturn\u001b[39;00m \u001b[38;5;28mself\u001b[39m._getitem_multilevel(key)\n\u001b[32m-> \u001b[39m\u001b[32m4102\u001b[39m indexer = \u001b[38;5;28;43mself\u001b[39;49m\u001b[43m.\u001b[49m\u001b[43mcolumns\u001b[49m\u001b[43m.\u001b[49m\u001b[43mget_loc\u001b[49m\u001b[43m(\u001b[49m\u001b[43mkey\u001b[49m\u001b[43m)\u001b[49m\n\u001b[32m   4103\u001b[39m \u001b[38;5;28;01mif\u001b[39;00m is_integer(indexer):\n\u001b[32m   4104\u001b[39m     indexer = [indexer]\n",
      "\u001b[36mFile \u001b[39m\u001b[32mc:\\Users\\Akash\\AppData\\Local\\Programs\\Python\\Python311\\Lib\\site-packages\\pandas\\core\\indexes\\base.py:3812\u001b[39m, in \u001b[36mIndex.get_loc\u001b[39m\u001b[34m(self, key)\u001b[39m\n\u001b[32m   3807\u001b[39m     \u001b[38;5;28;01mif\u001b[39;00m \u001b[38;5;28misinstance\u001b[39m(casted_key, \u001b[38;5;28mslice\u001b[39m) \u001b[38;5;129;01mor\u001b[39;00m (\n\u001b[32m   3808\u001b[39m         \u001b[38;5;28misinstance\u001b[39m(casted_key, abc.Iterable)\n\u001b[32m   3809\u001b[39m         \u001b[38;5;129;01mand\u001b[39;00m \u001b[38;5;28many\u001b[39m(\u001b[38;5;28misinstance\u001b[39m(x, \u001b[38;5;28mslice\u001b[39m) \u001b[38;5;28;01mfor\u001b[39;00m x \u001b[38;5;129;01min\u001b[39;00m casted_key)\n\u001b[32m   3810\u001b[39m     ):\n\u001b[32m   3811\u001b[39m         \u001b[38;5;28;01mraise\u001b[39;00m InvalidIndexError(key)\n\u001b[32m-> \u001b[39m\u001b[32m3812\u001b[39m     \u001b[38;5;28;01mraise\u001b[39;00m \u001b[38;5;167;01mKeyError\u001b[39;00m(key) \u001b[38;5;28;01mfrom\u001b[39;00m\u001b[38;5;250m \u001b[39m\u001b[34;01merr\u001b[39;00m\n\u001b[32m   3813\u001b[39m \u001b[38;5;28;01mexcept\u001b[39;00m \u001b[38;5;167;01mTypeError\u001b[39;00m:\n\u001b[32m   3814\u001b[39m     \u001b[38;5;66;03m# If we have a listlike key, _check_indexing_error will raise\u001b[39;00m\n\u001b[32m   3815\u001b[39m     \u001b[38;5;66;03m#  InvalidIndexError. Otherwise we fall through and re-raise\u001b[39;00m\n\u001b[32m   3816\u001b[39m     \u001b[38;5;66;03m#  the TypeError.\u001b[39;00m\n\u001b[32m   3817\u001b[39m     \u001b[38;5;28mself\u001b[39m._check_indexing_error(key)\n",
      "\u001b[31mKeyError\u001b[39m: 'timestamp'"
     ]
    }
   ],
   "source": [
    "from a_dataset_model import return_dataset, return_x_y, return_xgb_model\n",
    "import pandas as pd\n",
    "from datetime import timedelta\n",
    "\n",
    "# 7. Prepare next hour input\n",
    "dataset = return_dataset()\n",
    "x, y = return_x_y(dataset)\n",
    "model = return_xgb_model(x, y)\n",
    "\n",
    "def next_hour_predict(dataset: pd.DataFrame, model):\n",
    "\n",
    "    latest_timestamp = dataset['timestamp'].max()\n",
    "    next_hour = latest_timestamp + pd.Timedelta(hours=1)\n",
    "\n",
    "    # Create next-hour input for each device\n",
    "    device_ids = dataset['device_id'].unique()\n",
    "    next_hour_data = pd.DataFrame({\n",
    "        'device_id': device_ids,\n",
    "        'temperature': dataset['temperature'].iloc[-1],  # Assuming same temp as last known\n",
    "        'hour': next_hour.hour,\n",
    "        'dayofweek': next_hour.weekday(),\n",
    "        'is_weekend': int(next_hour.weekday() >= 5),\n",
    "        'is_holiday': 0,  # Update based on real holiday data if available\n",
    "        'year': next_hour.year,\n",
    "        'month': next_hour.month,\n",
    "        'day': next_hour.day    \n",
    "    })\n",
    "\n",
    "    # 8. Predict next-hour power consumption\n",
    "    feature_cols = ['device_id', 'temperature', 'hour', 'dayofweek', 'is_weekend', 'is_holiday', 'year', 'month', 'day']\n",
    "    next_hour_input = next_hour_data[feature_cols]\n",
    "    next_hour_predictions = model.predict(next_hour_input)\n",
    "    next_hour_data['predicted_power_kwh'] = next_hour_predictions\n",
    "\n",
    "    # 9. Display per device\n",
    "    print(f\"🔌 Predicted Power Consumption for {next_hour.strftime('%Y-%m-%d %H:%M:%S')}\")\n",
    "    print(next_hour_data[['device_id', 'predicted_power_kwh']])\n",
    "\n",
    "    # 10. Total power consumption\n",
    "    total_power = next_hour_data['predicted_power_kwh'].sum()\n",
    "    print(f\"\\n🔋 Total Predicted Power Consumption for {next_hour.strftime('%Y-%m-%d %H:%M:%S')}: {total_power:.2f} kWh\")\n",
    "\n",
    "next_hour_predict(dataset, model)"
   ]
  },
  {
   "cell_type": "code",
   "execution_count": null,
   "id": "77dc85f7",
   "metadata": {},
   "outputs": [
    {
     "ename": "TypeError",
     "evalue": "cannot unpack non-iterable XGBRegressor object",
     "output_type": "error",
     "traceback": [
      "\u001b[31m---------------------------------------------------------------------------\u001b[39m",
      "\u001b[31mTypeError\u001b[39m                                 Traceback (most recent call last)",
      "\u001b[36mCell\u001b[39m\u001b[36m \u001b[39m\u001b[32mIn[56]\u001b[39m\u001b[32m, line 17\u001b[39m\n\u001b[32m     13\u001b[39m X, y = return_x_y(dataset)\n\u001b[32m     15\u001b[39m \u001b[38;5;66;03m# 3. Train and get back the model + scaler\u001b[39;00m\n\u001b[32m     16\u001b[39m \u001b[38;5;66;03m#    (make sure your return_xgb_model is updated to return both model and scaler)\u001b[39;00m\n\u001b[32m---> \u001b[39m\u001b[32m17\u001b[39m model, scaler = return_xgb_model(X, y)\n\u001b[32m     19\u001b[39m \u001b[38;5;66;03m# 4. Prepare UK holiday calendar\u001b[39;00m\n\u001b[32m     20\u001b[39m uk_holidays = holidays.CountryHoliday(\u001b[33m'\u001b[39m\u001b[33mUK\u001b[39m\u001b[33m'\u001b[39m)\n",
      "\u001b[31mTypeError\u001b[39m: cannot unpack non-iterable XGBRegressor object"
     ]
    }
   ],
   "source": []
  },
  {
   "cell_type": "code",
   "execution_count": null,
   "id": "ece8eb9f",
   "metadata": {},
   "outputs": [],
   "source": []
  },
  {
   "cell_type": "code",
   "execution_count": 58,
   "id": "20d744de",
   "metadata": {},
   "outputs": [
    {
     "ename": "TypeError",
     "evalue": "cannot unpack non-iterable XGBRegressor object",
     "output_type": "error",
     "traceback": [
      "\u001b[31m---------------------------------------------------------------------------\u001b[39m",
      "\u001b[31mTypeError\u001b[39m                                 Traceback (most recent call last)",
      "\u001b[36mCell\u001b[39m\u001b[36m \u001b[39m\u001b[32mIn[58]\u001b[39m\u001b[32m, line 13\u001b[39m\n\u001b[32m      9\u001b[39m X, y = return_x_y(dataset)          \u001b[38;5;66;03m# returns features & target\u001b[39;00m\n\u001b[32m     11\u001b[39m \u001b[38;5;66;03m# 2. Train model & get scaler\u001b[39;00m\n\u001b[32m     12\u001b[39m \u001b[38;5;66;03m#    Make sure return_xgb_model returns (model, scaler)\u001b[39;00m\n\u001b[32m---> \u001b[39m\u001b[32m13\u001b[39m model, scaler = return_xgb_model(X, y)\n\u001b[32m     15\u001b[39m \u001b[38;5;28;01mdef\u001b[39;00m\u001b[38;5;250m \u001b[39m\u001b[34mmake_feature_df\u001b[39m(ts: pd.Timestamp) -> pd.DataFrame:\n\u001b[32m     16\u001b[39m \u001b[38;5;250m    \u001b[39m\u001b[33;03m\"\"\"\u001b[39;00m\n\u001b[32m     17\u001b[39m \u001b[33;03m    Build a feature DataFrame for each device at timestamp ts.\u001b[39;00m\n\u001b[32m     18\u001b[39m \u001b[33;03m    \"\"\"\u001b[39;00m\n",
      "\u001b[31mTypeError\u001b[39m: cannot unpack non-iterable XGBRegressor object"
     ]
    }
   ],
   "source": [
    "# predict_power.py\n",
    "\n",
    "import pandas as pd\n",
    "from datetime import timedelta\n",
    "from a_dataset_model import return_dataset, return_x_y, return_xgb_model\n",
    "\n",
    "# 1. Load & clean your data\n",
    "dataset = return_dataset()          # returns cleaned DataFrame\n",
    "X, y = return_x_y(dataset)          # returns features & target\n",
    "\n",
    "# 2. Train model & get scaler\n",
    "#    Make sure return_xgb_model returns (model, scaler)\n",
    "model, scaler = return_xgb_model(X, y)\n",
    "\n",
    "def make_feature_df(ts: pd.Timestamp) -> pd.DataFrame:\n",
    "    \"\"\"\n",
    "    Build a feature DataFrame for each device at timestamp ts.\n",
    "    \"\"\"\n",
    "    devices = dataset['device_id'].unique()\n",
    "    df = pd.DataFrame({'device_id': devices})\n",
    "    df['temperature'] = dataset['temperature'].iloc[-1]        # last known temp\n",
    "    df['hour']        = ts.hour\n",
    "    df['dayofweek']   = ts.weekday()\n",
    "    df['is_weekend']  = int(ts.weekday() >= 5)\n",
    "    df['is_holiday']  = 0                                      # fill in using holidays lib if desired\n",
    "    df['month']       = ts.month\n",
    "    return df\n",
    "\n",
    "def predict_at(ts: pd.Timestamp) -> pd.DataFrame:\n",
    "    \"\"\"\n",
    "    Predict power_kwh per device at timestamp ts.\n",
    "    \"\"\"\n",
    "    feat_df = make_feature_df(ts)\n",
    "    feat_cols = ['device_id','temperature','hour','dayofweek','is_weekend','is_holiday','month']\n",
    "    X_input = feat_df[feat_cols]\n",
    "    # scale & predict\n",
    "    X_scaled = scaler.transform(X_input)\n",
    "    feat_df['predicted_power_kwh'] = model.predict(X_scaled)\n",
    "    feat_df['timestamp'] = ts\n",
    "    return feat_df\n",
    "\n",
    "if __name__ == \"__main__\":\n",
    "    last_ts = pd.to_datetime(dataset['timestamp'].max())\n",
    "    \n",
    "    # Next hour\n",
    "    next_hr = last_ts + timedelta(hours=1)\n",
    "    df_hr = predict_at(next_hr)\n",
    "    print(\"=== Next Hour Predictions ===\")\n",
    "    print(df_hr[['device_id','predicted_power_kwh']])\n",
    "    \n",
    "    # Next day (24h ahead)\n",
    "    next_day = last_ts + timedelta(days=1)\n",
    "    df_day = predict_at(next_day)\n",
    "    print(\"\\n=== Next Day Predictions ===\")\n",
    "    print(df_day[['device_id','predicted_power_kwh']])\n",
    "    \n",
    "    # Next week (168h ahead)\n",
    "    next_week = last_ts + timedelta(weeks=1)\n",
    "    df_wk = predict_at(next_week)\n",
    "    print(\"\\n=== Next Week Predictions ===\")\n",
    "    print(df_wk[['device_id','predicted_power_kwh']])\n"
   ]
  },
  {
   "cell_type": "code",
   "execution_count": null,
   "id": "fbe0bba7",
   "metadata": {},
   "outputs": [],
   "source": []
  }
 ],
 "metadata": {
  "kernelspec": {
   "display_name": "Python 3",
   "language": "python",
   "name": "python3"
  },
  "language_info": {
   "name": "python",
   "version": "3.11.4"
  }
 },
 "nbformat": 4,
 "nbformat_minor": 5
}
