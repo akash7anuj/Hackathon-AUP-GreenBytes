{
 "cells": [
  {
   "cell_type": "code",
   "execution_count": null,
   "id": "20e97df2",
   "metadata": {},
   "outputs": [],
   "source": [
    "import pandas as pd"
   ]
  },
  {
   "cell_type": "markdown",
   "id": "92188409",
   "metadata": {},
   "source": [
    "***next hour ***"
   ]
  },
  {
   "cell_type": "code",
   "execution_count": null,
   "id": "081b9185",
   "metadata": {},
   "outputs": [],
   "source": [
    "from datetime import timedelta\n",
    "\n",
    "# 7. Prepare next hour input\n",
    "latest_timestamp = dataset_2['timestamp'].max()\n",
    "next_hour = latest_timestamp + pd.Timedelta(hours=1)\n",
    "\n",
    "# Create next-hour input for each device\n",
    "device_ids = dataset['device_id'].unique()\n",
    "next_hour_data = pd.DataFrame({\n",
    "    'device_id': device_ids,\n",
    "    'temperature': dataset['temperature'].iloc[-1],  # Assuming same temp as last known\n",
    "    'hour': next_hour.hour,\n",
    "    'dayofweek': next_hour.weekday(),\n",
    "    'is_weekend': int(next_hour.weekday() >= 5),\n",
    "    'is_holiday': 0,  # Update based on real holiday data if available\n",
    "    'year': next_hour.year,\n",
    "    'month': next_hour.month,\n",
    "    'day': next_hour.day    \n",
    "})\n",
    "\n",
    "# 8. Predict next-hour power consumption\n",
    "feature_cols = ['device_id', 'temperature', 'hour', 'dayofweek', 'is_weekend', 'is_holiday', 'year', 'month', 'day']\n",
    "next_hour_input = next_hour_data[feature_cols]\n",
    "next_hour_predictions = model.predict(next_hour_input)\n",
    "next_hour_data['predicted_power_kwh'] = next_hour_predictions\n",
    "\n",
    "# 9. Display per device\n",
    "print(f\"🔌 Predicted Power Consumption for {next_hour.strftime('%Y-%m-%d %H:%M:%S')}\")\n",
    "print(next_hour_data[['device_id', 'predicted_power_kwh']])\n",
    "\n",
    "# 10. Total power consumption\n",
    "total_power = next_hour_data['predicted_power_kwh'].sum()\n",
    "print(f\"\\n🔋 Total Predicted Power Consumption for {next_hour.strftime('%Y-%m-%d %H:%M:%S')}: {total_power:.2f} kWh\")\n"
   ]
  },
  {
   "cell_type": "markdown",
   "id": "31e7236a",
   "metadata": {},
   "source": [
    "***Manually input the date***"
   ]
  },
  {
   "cell_type": "code",
   "execution_count": null,
   "id": "3237e674",
   "metadata": {},
   "outputs": [],
   "source": [
    "import pandas as pd\n",
    "\n",
    "# 1. Manually input the full timestamp (date + hour)\n",
    "manual_datetime_str = \"2090-04-18 15:00\"  # e.g., 3 PM\n",
    "manual_datetime = pd.to_datetime(manual_datetime_str)\n",
    "\n",
    "# 2. Manually input the temperature (optional or from sensor)\n",
    "manual_temperature = 24.0  # Example\n",
    "is_holiday = 0  # Set your own holiday logic\n",
    "\n",
    "# 3. Assume dataset is already loaded and contains 'device_id' column\n",
    "device_ids = dataset['device_id'].unique()\n",
    "\n",
    "# 4. Build input DataFrame for each device\n",
    "manual_hour_data = pd.DataFrame({\n",
    "    'device_id': device_ids,\n",
    "    'temperature': manual_temperature,\n",
    "    'hour': manual_datetime.hour,\n",
    "    'dayofweek': manual_datetime.weekday(),\n",
    "    'is_weekend': int(manual_datetime.weekday() >= 5),\n",
    "    'is_holiday': is_holiday,\n",
    "    'year': manual_datetime.year,\n",
    "    'month': manual_datetime.month,\n",
    "    'day': manual_datetime.day\n",
    "})\n",
    "\n",
    "# 5. Define the feature columns (in the order model expects)\n",
    "feature_cols = ['device_id', 'temperature', 'hour', 'dayofweek', 'is_weekend', 'is_holiday', 'year', 'month', 'day']\n",
    "input_features = manual_hour_data[feature_cols]\n",
    "\n",
    "# 6. Predict using trained model\n",
    "predicted_power = model.predict(input_features)\n",
    "\n",
    "# 7. Add predictions to the DataFrame\n",
    "manual_hour_data['predicted_power_kwh'] = predicted_power\n",
    "\n",
    "# 8. Print per-device predictions\n",
    "print(f\"🔌 Predicted Power Consumption for {manual_datetime.strftime('%Y-%m-%d %H:%M:%S')}\")\n",
    "print(manual_hour_data[['device_id', 'predicted_power_kwh']])\n",
    "\n",
    "# 9. Total power prediction\n",
    "total_power_manual = manual_hour_data['predicted_power_kwh'].sum()\n",
    "print(f\"\\n🔋 Total Predicted Power Consumption for {manual_datetime.strftime('%Y-%m-%d %H:%M:%S')}: {total_power_manual:.2f} kWh\")\n"
   ]
  }
 ],
 "metadata": {
  "language_info": {
   "name": "python"
  }
 },
 "nbformat": 4,
 "nbformat_minor": 5
}
