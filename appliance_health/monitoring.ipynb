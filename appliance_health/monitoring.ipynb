{
 "cells": [
  {
   "cell_type": "code",
   "execution_count": 4,
   "id": "fc5e43e8",
   "metadata": {},
   "outputs": [],
   "source": [
    "import pandas as pd\n",
    "\n",
    "# Load data\n",
    "df = pd.read_csv(r'C:\\Users\\Akash\\Desktop\\electricity2\\house_1_daily.csv', parse_dates=['timestamp'])\n",
    "\n",
    "# Feature extraction\n",
    "df['hour'] = df['timestamp'].dt.hour\n",
    "df['day'] = df['timestamp'].dt.day\n",
    "agg = df.groupby(['appliance', 'day']).agg({\n",
    "    'power_kwh': ['mean', 'std', 'max', 'min']\n",
    "}).reset_index()\n",
    "\n",
    "agg.columns = ['appliance', 'day', 'mean_power', 'std_power', 'max_power', 'min_power']\n"
   ]
  },
  {
   "cell_type": "code",
   "execution_count": 5,
   "id": "6f2b2c91",
   "metadata": {},
   "outputs": [
    {
     "data": {
      "text/html": [
       "<div>\n",
       "<style scoped>\n",
       "    .dataframe tbody tr th:only-of-type {\n",
       "        vertical-align: middle;\n",
       "    }\n",
       "\n",
       "    .dataframe tbody tr th {\n",
       "        vertical-align: top;\n",
       "    }\n",
       "\n",
       "    .dataframe thead th {\n",
       "        text-align: right;\n",
       "    }\n",
       "</style>\n",
       "<table border=\"1\" class=\"dataframe\">\n",
       "  <thead>\n",
       "    <tr style=\"text-align: right;\">\n",
       "      <th></th>\n",
       "      <th>appliance</th>\n",
       "      <th>day</th>\n",
       "      <th>mean_power</th>\n",
       "      <th>std_power</th>\n",
       "      <th>max_power</th>\n",
       "      <th>min_power</th>\n",
       "    </tr>\n",
       "  </thead>\n",
       "  <tbody>\n",
       "    <tr>\n",
       "      <th>0</th>\n",
       "      <td>coffee_machine</td>\n",
       "      <td>1</td>\n",
       "      <td>0.024957</td>\n",
       "      <td>0.033467</td>\n",
       "      <td>0.121980</td>\n",
       "      <td>0.0</td>\n",
       "    </tr>\n",
       "    <tr>\n",
       "      <th>1</th>\n",
       "      <td>coffee_machine</td>\n",
       "      <td>2</td>\n",
       "      <td>0.029479</td>\n",
       "      <td>0.060711</td>\n",
       "      <td>0.338794</td>\n",
       "      <td>0.0</td>\n",
       "    </tr>\n",
       "    <tr>\n",
       "      <th>2</th>\n",
       "      <td>coffee_machine</td>\n",
       "      <td>3</td>\n",
       "      <td>0.018576</td>\n",
       "      <td>0.024438</td>\n",
       "      <td>0.098392</td>\n",
       "      <td>0.0</td>\n",
       "    </tr>\n",
       "    <tr>\n",
       "      <th>3</th>\n",
       "      <td>coffee_machine</td>\n",
       "      <td>4</td>\n",
       "      <td>0.025735</td>\n",
       "      <td>0.068088</td>\n",
       "      <td>0.454872</td>\n",
       "      <td>0.0</td>\n",
       "    </tr>\n",
       "    <tr>\n",
       "      <th>4</th>\n",
       "      <td>coffee_machine</td>\n",
       "      <td>5</td>\n",
       "      <td>0.014978</td>\n",
       "      <td>0.018944</td>\n",
       "      <td>0.107054</td>\n",
       "      <td>0.0</td>\n",
       "    </tr>\n",
       "  </tbody>\n",
       "</table>\n",
       "</div>"
      ],
      "text/plain": [
       "        appliance  day  mean_power  std_power  max_power  min_power\n",
       "0  coffee_machine    1    0.024957   0.033467   0.121980        0.0\n",
       "1  coffee_machine    2    0.029479   0.060711   0.338794        0.0\n",
       "2  coffee_machine    3    0.018576   0.024438   0.098392        0.0\n",
       "3  coffee_machine    4    0.025735   0.068088   0.454872        0.0\n",
       "4  coffee_machine    5    0.014978   0.018944   0.107054        0.0"
      ]
     },
     "execution_count": 5,
     "metadata": {},
     "output_type": "execute_result"
    }
   ],
   "source": [
    "agg.head()"
   ]
  },
  {
   "cell_type": "code",
   "execution_count": 6,
   "id": "3531a44d",
   "metadata": {},
   "outputs": [],
   "source": [
    "from sklearn.ensemble import IsolationForest\n",
    "\n",
    "# Train model\n",
    "model = IsolationForest(contamination=0.05, random_state=42)\n",
    "agg['anomaly'] = model.fit_predict(agg[['mean_power', 'std_power', 'max_power', 'min_power']])\n",
    "\n",
    "# -1 = anomaly, 1 = normal\n",
    "agg['status'] = agg['anomaly'].map({-1: 'Potential Fault', 1: 'Normal'})\n"
   ]
  },
  {
   "cell_type": "code",
   "execution_count": 7,
   "id": "60bcfbc2",
   "metadata": {},
   "outputs": [
    {
     "name": "stderr",
     "output_type": "stream",
     "text": [
      "2025-04-18 17:08:58.344 WARNING streamlit.runtime.scriptrunner_utils.script_run_context: Thread 'MainThread': missing ScriptRunContext! This warning can be ignored when running in bare mode.\n",
      "2025-04-18 17:08:59.202 \n",
      "  \u001b[33m\u001b[1mWarning:\u001b[0m to view this Streamlit app on a browser, run it with the following\n",
      "  command:\n",
      "\n",
      "    streamlit run C:\\Users\\Akash\\AppData\\Roaming\\Python\\Python311\\site-packages\\ipykernel_launcher.py [ARGUMENTS]\n",
      "2025-04-18 17:08:59.203 Thread 'MainThread': missing ScriptRunContext! This warning can be ignored when running in bare mode.\n",
      "2025-04-18 17:08:59.955 Thread 'MainThread': missing ScriptRunContext! This warning can be ignored when running in bare mode.\n",
      "2025-04-18 17:08:59.956 Thread 'MainThread': missing ScriptRunContext! This warning can be ignored when running in bare mode.\n",
      "2025-04-18 17:08:59.958 Thread 'MainThread': missing ScriptRunContext! This warning can be ignored when running in bare mode.\n",
      "2025-04-18 17:08:59.959 Thread 'MainThread': missing ScriptRunContext! This warning can be ignored when running in bare mode.\n",
      "2025-04-18 17:08:59.961 Thread 'MainThread': missing ScriptRunContext! This warning can be ignored when running in bare mode.\n",
      "2025-04-18 17:08:59.963 Thread 'MainThread': missing ScriptRunContext! This warning can be ignored when running in bare mode.\n",
      "2025-04-18 17:08:59.999 Thread 'MainThread': missing ScriptRunContext! This warning can be ignored when running in bare mode.\n",
      "2025-04-18 17:09:00.002 Thread 'MainThread': missing ScriptRunContext! This warning can be ignored when running in bare mode.\n"
     ]
    }
   ],
   "source": [
    "import streamlit as st\n",
    "import plotly.express as px\n",
    "\n",
    "st.title(\"Appliance Health Monitoring Dashboard\")\n",
    "\n",
    "fig = px.bar(agg, x='day', y='mean_power', color='status', barmode='group',\n",
    "             facet_col='appliance', title=\"Daily Appliance Power & Health Status\")\n",
    "st.plotly_chart(fig)\n",
    "\n",
    "faulty = agg[agg['status'] == 'Potential Fault']\n",
    "if not faulty.empty:\n",
    "    st.warning(\"⚠️ Faulty Appliances Detected:\")\n",
    "    st.write(faulty[['appliance', 'day', 'mean_power', 'status']])\n"
   ]
  },
  {
   "cell_type": "code",
   "execution_count": null,
   "id": "a5ff579e",
   "metadata": {},
   "outputs": [],
   "source": []
  }
 ],
 "metadata": {
  "kernelspec": {
   "display_name": "Python 3",
   "language": "python",
   "name": "python3"
  },
  "language_info": {
   "codemirror_mode": {
    "name": "ipython",
    "version": 3
   },
   "file_extension": ".py",
   "mimetype": "text/x-python",
   "name": "python",
   "nbconvert_exporter": "python",
   "pygments_lexer": "ipython3",
   "version": "3.11.4"
  }
 },
 "nbformat": 4,
 "nbformat_minor": 5
}
